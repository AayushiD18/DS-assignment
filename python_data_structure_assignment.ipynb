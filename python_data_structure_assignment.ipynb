{
  "nbformat": 4,
  "nbformat_minor": 0,
  "metadata": {
    "colab": {
      "provenance": []
    },
    "kernelspec": {
      "name": "python3",
      "display_name": "Python 3"
    },
    "language_info": {
      "name": "python"
    }
  },
  "cells": [
    {
      "cell_type": "code",
      "source": [
        "#Write a code to reverse a string.\n",
        "\n",
        "\n",
        "s = \"Hello Aayushi\" [::-1]\n",
        "print(s)\n"
      ],
      "metadata": {
        "colab": {
          "base_uri": "https://localhost:8080/"
        },
        "id": "UilKm-wGbR94",
        "outputId": "93b9b5bb-3805-4cbe-cba8-b6a07ca83ba3"
      },
      "execution_count": null,
      "outputs": [
        {
          "output_type": "stream",
          "name": "stdout",
          "text": [
            "ihsuyaA olleH\n"
          ]
        }
      ]
    },
    {
      "cell_type": "code",
      "source": [
        "#Write a code to count the number of vowels in a string.\n",
        "\n",
        "string = \"I want to become a data analyst\"\n",
        "vowels = \"aeiouAEIOU\"\n",
        "\n",
        "count = sum(string.count(vowel) for vowel in vowels)\n",
        "print(count)\n"
      ],
      "metadata": {
        "colab": {
          "base_uri": "https://localhost:8080/"
        },
        "id": "Qm3sP102cLN8",
        "outputId": "c5c98e08-7f72-4c82-da42-82d2adba015a"
      },
      "execution_count": null,
      "outputs": [
        {
          "output_type": "stream",
          "name": "stdout",
          "text": [
            "11\n"
          ]
        }
      ]
    },
    {
      "cell_type": "code",
      "source": [
        "#Write a code to check if a given string is a palindrome or not.\n",
        "\n",
        "input_string = \"racecar\"\n",
        "\n",
        "if input_string == input_string[::-1]:\n",
        "    print(\"The string is a palindrome.\")\n",
        "else:\n",
        "    print(\"The string is not a palindrome.\")"
      ],
      "metadata": {
        "colab": {
          "base_uri": "https://localhost:8080/"
        },
        "id": "SpEp1Vwkf9YY",
        "outputId": "323bea46-4827-492c-ab9a-7a7d01db0423"
      },
      "execution_count": null,
      "outputs": [
        {
          "output_type": "stream",
          "name": "stdout",
          "text": [
            "The string is a palindrome.\n"
          ]
        }
      ]
    },
    {
      "cell_type": "code",
      "source": [
        "#Write a code to check if two given strings are anagrams of each other?\n",
        "\n",
        "#anagrams = a word formed by rearranging the letters in another word or phrase.\n",
        "\n",
        "def are_anagrams(str1, str2):\n",
        "    # Convert both strings to lowercase\n",
        "    str1 = str1.lower()\n",
        "    str2 = str2.lower()\n",
        ""
      ],
      "metadata": {
        "id": "w6xh36rYjhfp"
      },
      "execution_count": 16,
      "outputs": []
    },
    {
      "cell_type": "code",
      "source": [
        "def are_anagrams(str1, str2):\n",
        "    # Convert both strings to lowercase\n",
        "    str1 = str1.lower()\n",
        "    str2 = str2.lower()\n",
        "\n",
        "\n",
        "\n",
        "    # Sort the strings and compare\n",
        "    return sorted(str1) == sorted(str2)\n",
        "\n",
        "# Example usage\n",
        "string1 = \"Listen\"\n",
        "string2 = \"Silent\"\n",
        "\n",
        "if are_anagrams(string1, string2):\n",
        "    print(f'\"{string1}\" and \"{string2}\" are anagrams.')\n",
        "else:\n",
        "    print(f'\"{string1}\" and \"{string2}\" are not anagrams.')\n"
      ],
      "metadata": {
        "colab": {
          "base_uri": "https://localhost:8080/"
        },
        "id": "N9sI3hO0tTR_",
        "outputId": "f8c8eeb5-8741-40f8-c5ee-93f6754f99c1"
      },
      "execution_count": 23,
      "outputs": [
        {
          "output_type": "stream",
          "name": "stdout",
          "text": [
            "\"Listen\" and \"Silent\" are anagrams.\n"
          ]
        }
      ]
    },
    {
      "cell_type": "code",
      "source": [
        "#Write a code to find all occurrences of a given substring within another string\n",
        "\n",
        "def find_all_occurrences(string, substring):\n",
        "  occurrences = []\n",
        "  index = string.find(substring)\n",
        "  while index != -1:\n",
        "    occurrences.append(index)\n",
        "    index = string.find(substring, index + 1)\n",
        "    return occurrences"
      ],
      "metadata": {
        "id": "iOQLQRZR832_"
      },
      "execution_count": 4,
      "outputs": []
    },
    {
      "cell_type": "code",
      "source": [
        "text = \"Python is great, and Python is versatile.\"\n",
        "sub = \"Python\""
      ],
      "metadata": {
        "id": "Hw7X3zynyheT"
      },
      "execution_count": 5,
      "outputs": []
    },
    {
      "cell_type": "code",
      "source": [
        "result = find_all_occurrences(text, sub)"
      ],
      "metadata": {
        "id": "UBvJ1LWAH7uO"
      },
      "execution_count": 6,
      "outputs": []
    },
    {
      "cell_type": "code",
      "source": [
        "print(f\"Occurrences of '{sub}' are at indices: {result}\")"
      ],
      "metadata": {
        "colab": {
          "base_uri": "https://localhost:8080/"
        },
        "id": "6ahPzz0GIA1E",
        "outputId": "cb5f4128-f10e-4dd9-9aea-9b050146a729"
      },
      "execution_count": 7,
      "outputs": [
        {
          "output_type": "stream",
          "name": "stdout",
          "text": [
            "Occurrences of 'Python' are at indices: [0]\n"
          ]
        }
      ]
    },
    {
      "cell_type": "code",
      "source": [
        "#Write a code to perform basic string compression using the counts of repeated characters\n",
        "\n",
        "def compress_string(s):\n",
        "  compressed = []\n",
        "  count = 1\n",
        "  for i in range(1, len(s)):\n",
        "        if s[i] == s[i - 1]:\n",
        "            count += 1\n",
        "        else:\n",
        "            compressed.append(s[i - 1] + str(count))\n",
        "            count = 1\n",
        "\n",
        "            compressed.append(s[-1] + str(count))\n",
        "            return ''.join(compressed)\n",
        "\n",
        "            compressed.append(s[-1] + str(count))\n",
        "            result = ''.join(compressed)\n",
        "            return result if len(result) < len(s) else s"
      ],
      "metadata": {
        "id": "XpgSUuwOIB08"
      },
      "execution_count": 12,
      "outputs": []
    },
    {
      "cell_type": "code",
      "source": [
        "input_string = \"aabcccccaaa\""
      ],
      "metadata": {
        "id": "z_Ln2UftIdip"
      },
      "execution_count": 13,
      "outputs": []
    },
    {
      "cell_type": "code",
      "source": [
        "compressed = compress_string(input_string)"
      ],
      "metadata": {
        "id": "Ptccxg50IkGs"
      },
      "execution_count": 14,
      "outputs": []
    },
    {
      "cell_type": "code",
      "source": [
        "print(f\"Compressed string: {compressed}\")"
      ],
      "metadata": {
        "colab": {
          "base_uri": "https://localhost:8080/"
        },
        "id": "J7UIHtIHIzeb",
        "outputId": "6e9d2251-3633-4e05-b411-f67b3332aa43"
      },
      "execution_count": 15,
      "outputs": [
        {
          "output_type": "stream",
          "name": "stdout",
          "text": [
            "Compressed string: a2a1\n"
          ]
        }
      ]
    },
    {
      "cell_type": "code",
      "source": [
        "# Write a code to determine if a string has all unique characters\n",
        "\n",
        "def has_unique_characters(string):\n",
        "  seen = set()\n",
        "  for char in string:\n",
        "    if char in seen:\n",
        "      return False\n",
        "      seen.add(char)\n",
        "      return True"
      ],
      "metadata": {
        "id": "rWV7Ff5FI1MA"
      },
      "execution_count": 16,
      "outputs": []
    },
    {
      "cell_type": "code",
      "source": [
        "input_string = \"abcdefg\"\n",
        "if has_unique_characters(input_string):\n",
        "  print(\"The string does not have all unique characters.\")\n",
        "\n",
        "else:\n",
        "    print(\"The string has all unique characters.\")"
      ],
      "metadata": {
        "colab": {
          "base_uri": "https://localhost:8080/"
        },
        "id": "Nnd7PDdvI9Hj",
        "outputId": "a70cd273-37a7-4d59-d1f1-94da56259444"
      },
      "execution_count": 18,
      "outputs": [
        {
          "output_type": "stream",
          "name": "stdout",
          "text": [
            "The string has all unique characters.\n"
          ]
        }
      ]
    },
    {
      "cell_type": "code",
      "source": [
        "#Write a code to convert a given string to uppercase or lowercase\n",
        "\n",
        "def convert_case(string, to_uppercase=True):\n",
        "  if to_uppercase:\n",
        "    return string.upper()\n",
        "  else:\n",
        "    return string.lower()"
      ],
      "metadata": {
        "id": "i1GVueu0JGJ1"
      },
      "execution_count": 19,
      "outputs": []
    },
    {
      "cell_type": "code",
      "source": [
        "input_string = \"Hello World\""
      ],
      "metadata": {
        "id": "mW9OjPZCJZS2"
      },
      "execution_count": 20,
      "outputs": []
    },
    {
      "cell_type": "code",
      "source": [
        "uppercase_string = convert_case(input_string)\n",
        "print(f\"Uppercase string: {uppercase_string}\")"
      ],
      "metadata": {
        "colab": {
          "base_uri": "https://localhost:8080/"
        },
        "id": "nqKHyyAmJbHu",
        "outputId": "4a9c4558-238a-475e-b9f2-dd635396bc11"
      },
      "execution_count": 21,
      "outputs": [
        {
          "output_type": "stream",
          "name": "stdout",
          "text": [
            "Uppercase string: HELLO WORLD\n"
          ]
        }
      ]
    },
    {
      "cell_type": "code",
      "source": [
        "#Write a code to count the number of words in a string\n",
        "\n",
        "def count_words(string):\n",
        "  words = string.split()\n",
        "  return len(words)"
      ],
      "metadata": {
        "id": "eQO6Ot8aJgJ_"
      },
      "execution_count": 22,
      "outputs": []
    },
    {
      "cell_type": "code",
      "source": [
        "input_string = \"This is a sample string with 5 words.\""
      ],
      "metadata": {
        "id": "5IQMgPWTJlM9"
      },
      "execution_count": 23,
      "outputs": []
    },
    {
      "cell_type": "code",
      "source": [
        "word_count = count_words(input_string)\n",
        "print(f\"Number of words: {word_count}\")"
      ],
      "metadata": {
        "colab": {
          "base_uri": "https://localhost:8080/"
        },
        "id": "bvKd-KDEJm_e",
        "outputId": "3a92f001-bdd3-416a-dfc4-3e2e322d5539"
      },
      "execution_count": 24,
      "outputs": [
        {
          "output_type": "stream",
          "name": "stdout",
          "text": [
            "Number of words: 8\n"
          ]
        }
      ]
    },
    {
      "cell_type": "code",
      "source": [
        "#Write a code to concatenate two strings without using the + operator\n",
        "\n",
        "def concatenate_strings(str1, str2):\n",
        "  result = ''\n",
        "  for char in str1:\n",
        "    result += char\n",
        "  for char in str2:\n",
        "    result += char\n",
        "    return result"
      ],
      "metadata": {
        "id": "dKZFGfyEJpZo"
      },
      "execution_count": 26,
      "outputs": []
    },
    {
      "cell_type": "code",
      "source": [
        "string1 = \"Hello\"\n",
        "string2 = \"World\""
      ],
      "metadata": {
        "id": "uiiPSJIPJx_D"
      },
      "execution_count": 34,
      "outputs": []
    },
    {
      "cell_type": "code",
      "source": [
        "concatenated_string = concatenate_strings(string1, string2)\n",
        "print(f\"Concatenated string: {concatenated_string}\")"
      ],
      "metadata": {
        "colab": {
          "base_uri": "https://localhost:8080/"
        },
        "id": "a3CAdz0SJ8No",
        "outputId": "3bd31b69-ff0f-4714-a425-bb8dbb94e69f"
      },
      "execution_count": 33,
      "outputs": [
        {
          "output_type": "stream",
          "name": "stdout",
          "text": [
            "Concatenated string: HelloW\n"
          ]
        }
      ]
    },
    {
      "cell_type": "code",
      "source": [
        "#Write a code to remove all occurrences of a specific element from a list\n",
        "\n",
        "def remove_element(lst, element):\n",
        "  result = []\n",
        "  for item in lst:\n",
        "    if item != element:\n",
        "      result.append(item)\n",
        "      return result"
      ],
      "metadata": {
        "id": "cwUjal7VKCIn"
      },
      "execution_count": 35,
      "outputs": []
    },
    {
      "cell_type": "code",
      "source": [
        "input_list = [1, 2, 3, 2, 4, 2, 5]"
      ],
      "metadata": {
        "id": "kz1FtfIvKfYX"
      },
      "execution_count": 36,
      "outputs": []
    },
    {
      "cell_type": "code",
      "source": [
        "#Implement a code to find the second largest number in a given list of integers\n",
        "\n",
        "def second_largest(list):\n",
        "    list.sort()\n",
        "    return list[-2]\n"
      ],
      "metadata": {
        "id": "OzwtfdxZLkL7"
      },
      "execution_count": 63,
      "outputs": []
    },
    {
      "cell_type": "code",
      "source": [
        "li=[]\n",
        "n=int(input(\"Enter size of list \"))\n",
        "for i in range(0,n):\n",
        "    e=int(input(\"Enter element of list \"))\n",
        "    li.append(e)"
      ],
      "metadata": {
        "colab": {
          "base_uri": "https://localhost:8080/"
        },
        "id": "iukcsWPUNniX",
        "outputId": "e776bce7-cc37-4c7a-f063-4771152d90a7"
      },
      "execution_count": 69,
      "outputs": [
        {
          "name": "stdout",
          "output_type": "stream",
          "text": [
            "Enter size of list 5\n",
            "Enter element of list 8\n",
            "Enter element of list 3\n",
            "Enter element of list 1\n",
            "Enter element of list 9\n",
            "Enter element of list 5\n"
          ]
        }
      ]
    },
    {
      "cell_type": "code",
      "source": [
        "print(\"second largest in \",li,\"is\")\n",
        "print(second_largest(li))"
      ],
      "metadata": {
        "colab": {
          "base_uri": "https://localhost:8080/"
        },
        "id": "ny6rHaXfNpae",
        "outputId": "7f4e12b5-0dff-4f9f-de89-97b674ccacb3"
      },
      "execution_count": 70,
      "outputs": [
        {
          "output_type": "stream",
          "name": "stdout",
          "text": [
            "second largest in  [8, 3, 1, 9, 5] is\n",
            "8\n"
          ]
        }
      ]
    },
    {
      "cell_type": "code",
      "source": [
        "#Create a code to count the occurrences of each element in a list and return a dictionary with elements as keys and their counts as values.\n",
        "\n",
        "def count_occurrences(lst):\n",
        "  counts = {}\n",
        "  for item in lst:\n",
        "    if item in counts:\n",
        "      counts[item] += 1\n",
        "    else:\n",
        "      counts[item] = 1\n",
        "      return counts\n",
        "\n"
      ],
      "metadata": {
        "id": "dmT6uDuDN0Nu"
      },
      "execution_count": 71,
      "outputs": []
    },
    {
      "cell_type": "code",
      "source": [
        "input_list = [1, 2, 3, 2, 4, 2, 5]"
      ],
      "metadata": {
        "id": "5145HPQyOPfy"
      },
      "execution_count": 72,
      "outputs": []
    },
    {
      "cell_type": "code",
      "source": [
        "result = count_occurrences(input_list)\n",
        "print(f\"Element counts: {result}\")"
      ],
      "metadata": {
        "colab": {
          "base_uri": "https://localhost:8080/"
        },
        "id": "dAdwzni5OUiF",
        "outputId": "7bffcdf8-c757-4478-f4ec-4bd0c0a66a33"
      },
      "execution_count": 74,
      "outputs": [
        {
          "output_type": "stream",
          "name": "stdout",
          "text": [
            "Element counts: {1: 1}\n"
          ]
        }
      ]
    },
    {
      "cell_type": "code",
      "source": [
        "#Write a code to reverse a list in-place without using any built-in reverse functions\n",
        "\n",
        "def reverse_list_in_place(lst):\n",
        "  left = 0\n",
        "  right = len(lst) - 1\n",
        "\n",
        "  while left < right:\n",
        "    lst[left], lst[right] = lst[right], lst[left]\n",
        "    left += 1\n",
        "    right -= 1"
      ],
      "metadata": {
        "id": "stU9RKUdOV7J"
      },
      "execution_count": 75,
      "outputs": []
    },
    {
      "cell_type": "code",
      "source": [
        "numbers = [1, 2, 3, 4, 5]"
      ],
      "metadata": {
        "id": "txJLJBvEUMko"
      },
      "execution_count": 76,
      "outputs": []
    },
    {
      "cell_type": "code",
      "source": [
        "reverse_list_in_place(numbers)"
      ],
      "metadata": {
        "id": "0mBQtD27UP8G"
      },
      "execution_count": 77,
      "outputs": []
    },
    {
      "cell_type": "code",
      "source": [
        "print(\"Reversed list:\", numbers)"
      ],
      "metadata": {
        "colab": {
          "base_uri": "https://localhost:8080/"
        },
        "id": "AwEMlKxZUQk_",
        "outputId": "99f7ca0d-2748-46ab-e6a1-c6b8888121b9"
      },
      "execution_count": 78,
      "outputs": [
        {
          "output_type": "stream",
          "name": "stdout",
          "text": [
            "Reversed list: [5, 4, 3, 2, 1]\n"
          ]
        }
      ]
    },
    {
      "cell_type": "code",
      "source": [
        "#Implement a code to find and remove duplicates from a list while preserving the original order of elements\n",
        "\n",
        "def remove_duplicates_preserve_order(lst):\n",
        "  seen = set()\n",
        "  result = []\n",
        "\n",
        "  for item in lst:\n",
        "        if item not in seen:\n",
        "            seen.add(item)\n",
        "            result.append(item)\n",
        "            return result"
      ],
      "metadata": {
        "id": "gHTeilAmUSJg"
      },
      "execution_count": 82,
      "outputs": []
    },
    {
      "cell_type": "code",
      "source": [
        "numbers = [4, 5, 4, 2, 1, 2, 3, 5, 1]"
      ],
      "metadata": {
        "id": "Jj1j59_0VC6_"
      },
      "execution_count": 83,
      "outputs": []
    },
    {
      "cell_type": "code",
      "source": [
        "unique_numbers = remove_duplicates_preserve_order(numbers)\n",
        "print(\"List after removing duplicates:\", unique_numbers)"
      ],
      "metadata": {
        "colab": {
          "base_uri": "https://localhost:8080/"
        },
        "id": "Iwp27ZpoVNV2",
        "outputId": "60a64c54-f960-4aae-904f-da5eda24d5a0"
      },
      "execution_count": 84,
      "outputs": [
        {
          "output_type": "stream",
          "name": "stdout",
          "text": [
            "List after removing duplicates: [4]\n"
          ]
        }
      ]
    },
    {
      "cell_type": "code",
      "source": [
        "#Create a code to check if a given list is sorted (either in ascending or descending order) or not\n",
        "\n",
        "def is_sorted(lst):\n",
        "    ascending = all(lst[i] <= lst[i + 1] for i in range(len(lst) - 1))\n",
        "    descending = all(lst[i] >= lst[i + 1] for i in range(len(lst) - 1))\n",
        "    if ascending:\n",
        "        return \"The list is sorted in ascending order.\"\n",
        "    elif descending:\n",
        "        return \"The list is sorted in descending order.\"\n",
        "    else:\n",
        "        return \"The list is not sorted.\""
      ],
      "metadata": {
        "id": "JnSAytldVO0B"
      },
      "execution_count": 1,
      "outputs": []
    },
    {
      "cell_type": "code",
      "source": [
        "my_list1 = [1, 2, 3, 4, 5]\n",
        "print(is_sorted(my_list1))"
      ],
      "metadata": {
        "colab": {
          "base_uri": "https://localhost:8080/"
        },
        "id": "fVbU8yUFWKf5",
        "outputId": "85f79d1a-c211-4138-b134-cd02cbb3be93"
      },
      "execution_count": 2,
      "outputs": [
        {
          "output_type": "stream",
          "name": "stdout",
          "text": [
            "The list is sorted in ascending order.\n"
          ]
        }
      ]
    },
    {
      "cell_type": "code",
      "source": [
        "my_list2 = [5, 4, 3, 2, 1]\n",
        "print(is_sorted(my_list2))"
      ],
      "metadata": {
        "colab": {
          "base_uri": "https://localhost:8080/"
        },
        "id": "OA680BhJWOw1",
        "outputId": "f3367519-05ba-4f49-b035-550533e2f64e"
      },
      "execution_count": 3,
      "outputs": [
        {
          "output_type": "stream",
          "name": "stdout",
          "text": [
            "The list is sorted in descending order.\n"
          ]
        }
      ]
    },
    {
      "cell_type": "code",
      "source": [
        "#Write a code to merge two sorted lists into a single sorted list\n",
        "\n",
        "def merge_sorted_lists(list1, list2):\n",
        "    merged_list = []\n",
        "    i, j = 0, 0\n",
        "\n",
        "    # Traverse both lists and append smaller element to merged_list\n",
        "    while i < len(list1) and j < len(list2):\n",
        "        if list1[i] < list2[j]:\n",
        "            merged_list.append(list1[i])\n",
        "            i += 1\n",
        "        else:\n",
        "            merged_list.append(list2[j])\n",
        "            j += 1\n",
        "\n",
        "    # Append remaining elements of list1, if any\n",
        "    while i < len(list1):\n",
        "        merged_list.append(list1[i])\n",
        "        i += 1\n",
        "\n",
        "    # Append remaining elements of list2, if any\n",
        "    while j < len(list2):\n",
        "        merged_list.append(list2[j])\n",
        "        j += 1\n",
        "\n",
        "    return merged_list"
      ],
      "metadata": {
        "id": "9KNdyjPy737s"
      },
      "execution_count": 4,
      "outputs": []
    },
    {
      "cell_type": "code",
      "source": [
        "list1 = [1, 3, 5, 7]\n",
        "list2 = [2, 4, 6, 8]\n",
        "print(merge_sorted_lists(list1, list2))"
      ],
      "metadata": {
        "colab": {
          "base_uri": "https://localhost:8080/"
        },
        "id": "ehdY15iP8Fkg",
        "outputId": "10d1633b-4391-4c7d-d89f-bf670c28dbab"
      },
      "execution_count": 5,
      "outputs": [
        {
          "output_type": "stream",
          "name": "stdout",
          "text": [
            "[1, 2, 3, 4, 5, 6, 7, 8]\n"
          ]
        }
      ]
    },
    {
      "cell_type": "code",
      "source": [
        "# Implement a code to find the intersection of two given lists.\n",
        "\n",
        "def find_intersection(list1, list2):\n",
        "  set1 = set(list1)\n",
        "  set2 = set(list2)\n",
        "\n",
        "  intersection = set1.intersection(set2)\n",
        "  return list(intersection)"
      ],
      "metadata": {
        "id": "Jr1rwBU48Iuk"
      },
      "execution_count": 6,
      "outputs": []
    },
    {
      "cell_type": "code",
      "source": [
        "list_a = [1, 2, 3, 4, 5]\n",
        "list_b = [4, 5, 6, 7, 8]"
      ],
      "metadata": {
        "id": "y2u7t_yh9R8z"
      },
      "execution_count": 7,
      "outputs": []
    },
    {
      "cell_type": "code",
      "source": [
        "intersection_result = find_intersection(list_a, list_b)\n",
        "print(f\"The intersection of {list_a} and {list_b} is: {intersection_result}\")"
      ],
      "metadata": {
        "colab": {
          "base_uri": "https://localhost:8080/"
        },
        "id": "Z93RVuWJ9VcW",
        "outputId": "adf44f0b-04ab-4598-9444-3c3dfff0c40b"
      },
      "execution_count": 8,
      "outputs": [
        {
          "output_type": "stream",
          "name": "stdout",
          "text": [
            "The intersection of [1, 2, 3, 4, 5] and [4, 5, 6, 7, 8] is: [4, 5]\n"
          ]
        }
      ]
    },
    {
      "cell_type": "code",
      "source": [
        "# Create a code to find the union of two lists without duplicates\n",
        "\n",
        "def find_union(list1, list2):\n",
        "  set1 = set(list1)\n",
        "  set2 = set(list2)\n",
        "\n",
        "  union = set1.union(set2)\n",
        "  return list(union)"
      ],
      "metadata": {
        "id": "8de1qAUi9YMt"
      },
      "execution_count": 9,
      "outputs": []
    },
    {
      "cell_type": "code",
      "source": [
        "list_a = [1, 2, 3, 4, 5]\n",
        "list_b = [4, 5, 6, 7, 8]"
      ],
      "metadata": {
        "id": "GpXLYtLv9iLA"
      },
      "execution_count": 10,
      "outputs": []
    },
    {
      "cell_type": "code",
      "source": [
        "union_result = find_union(list_a, list_b)\n",
        "print(f\"The union of {list_a} and {list_b} is: {union_result}\")"
      ],
      "metadata": {
        "colab": {
          "base_uri": "https://localhost:8080/"
        },
        "id": "SMCITj3C9vw5",
        "outputId": "c36f0704-d8ec-4cc4-8d47-eeff2c99054a"
      },
      "execution_count": 11,
      "outputs": [
        {
          "output_type": "stream",
          "name": "stdout",
          "text": [
            "The union of [1, 2, 3, 4, 5] and [4, 5, 6, 7, 8] is: [1, 2, 3, 4, 5, 6, 7, 8]\n"
          ]
        }
      ]
    },
    {
      "cell_type": "code",
      "source": [
        "#Write a code to shuffle a given list randomly without using any built-in shuffle functions\n",
        "\n",
        "import random\n",
        "\n",
        "def custom_shuffle(lst):\n",
        "  n = len(lst)\n",
        "  for i in range(n):\n",
        "      rand_index = random.randint(i, n - 1)\n",
        "      lst[i], lst[rand_index] = lst[rand_index], lst[i]\n"
      ],
      "metadata": {
        "id": "dfMFnc3s9x3r"
      },
      "execution_count": 13,
      "outputs": []
    },
    {
      "cell_type": "code",
      "source": [
        "numbers = [1, 2, 3, 4, 5]\n",
        "print(\"Original list:\", numbers)"
      ],
      "metadata": {
        "colab": {
          "base_uri": "https://localhost:8080/"
        },
        "id": "1YSZOcUq-I1B",
        "outputId": "a5a3896e-6bf1-45ea-b61d-f8ed81a6a91e"
      },
      "execution_count": 14,
      "outputs": [
        {
          "output_type": "stream",
          "name": "stdout",
          "text": [
            "Original list: [1, 2, 3, 4, 5]\n"
          ]
        }
      ]
    },
    {
      "cell_type": "code",
      "source": [
        "custom_shuffle(numbers)\n",
        "print(\"Shuffled list:\", numbers)"
      ],
      "metadata": {
        "colab": {
          "base_uri": "https://localhost:8080/"
        },
        "id": "kUB9zb0E-NL6",
        "outputId": "6e2e9788-7a2a-4d43-9576-3f1007920eb7"
      },
      "execution_count": 15,
      "outputs": [
        {
          "output_type": "stream",
          "name": "stdout",
          "text": [
            "Shuffled list: [5, 2, 3, 4, 1]\n"
          ]
        }
      ]
    },
    {
      "cell_type": "code",
      "source": [
        "#Write a code that takes two tuples as input and returns a new tuple containing elements that are common to both input tuples\n",
        "\n",
        "def common_elements(tuple1, tuple2):\n",
        "  set1 = set(tuple1)\n",
        "  set2 = set(tuple2)\n",
        "  common = set1.intersection(set2)\n",
        "  return tuple(common)"
      ],
      "metadata": {
        "id": "GavDSjsa-PqW"
      },
      "execution_count": 18,
      "outputs": []
    },
    {
      "cell_type": "code",
      "source": [
        "tuple1 = (1, 2, 3, 4, 5)\n",
        "tuple2 = (4, 5, 6, 7, 8)"
      ],
      "metadata": {
        "id": "lvx4ARrL-zU4"
      },
      "execution_count": 19,
      "outputs": []
    },
    {
      "cell_type": "code",
      "source": [
        "common_result = common_elements(tuple1, tuple2)\n",
        "print(f\"The common elements between {tuple1} and {tuple2} are: {common_result}\")"
      ],
      "metadata": {
        "colab": {
          "base_uri": "https://localhost:8080/"
        },
        "id": "fXWAyWD__EiR",
        "outputId": "0bb0b4a4-1a13-428f-9d99-06158d43090a"
      },
      "execution_count": 20,
      "outputs": [
        {
          "output_type": "stream",
          "name": "stdout",
          "text": [
            "The common elements between (1, 2, 3, 4, 5) and (4, 5, 6, 7, 8) are: (4, 5)\n"
          ]
        }
      ]
    },
    {
      "cell_type": "code",
      "source": [
        "#Create a code that prompts the user to enter two sets of integers separated by commas. Then, print the intersection of these two sets\n",
        "\n",
        "def get_set_from_input(prompt):\n",
        "  user_input = input(prompt)\n",
        "  input_list = [int(x.strip()) for x in user_input.split(',')]\n",
        "  return set(input_list)"
      ],
      "metadata": {
        "id": "UC6LP0H4_SqQ"
      },
      "execution_count": 23,
      "outputs": []
    },
    {
      "cell_type": "code",
      "source": [
        "set1 = get_set_from_input(\"Enter the first set of integers (comma-separated): \")\n",
        "set2 = get_set_from_input(\"Enter the second set of integers (comma-separated): \")"
      ],
      "metadata": {
        "colab": {
          "base_uri": "https://localhost:8080/"
        },
        "id": "Ccck2pfdAFr3",
        "outputId": "373bc510-be8d-457c-be20-6c58d80c19ee"
      },
      "execution_count": 24,
      "outputs": [
        {
          "name": "stdout",
          "output_type": "stream",
          "text": [
            "Enter the first set of integers (comma-separated): 1, 2, 3, 4, 5\n",
            "Enter the second set of integers (comma-separated): 4, 5, 6, 7, 8\n"
          ]
        }
      ]
    },
    {
      "cell_type": "code",
      "source": [
        "intersection = set1.intersection(set2)"
      ],
      "metadata": {
        "id": "VcFYrDmxANd3"
      },
      "execution_count": 25,
      "outputs": []
    },
    {
      "cell_type": "code",
      "source": [
        "print(f\"The intersection of the two sets is: {intersection}\")"
      ],
      "metadata": {
        "colab": {
          "base_uri": "https://localhost:8080/"
        },
        "id": "1YDIIb3BAVKm",
        "outputId": "987bcffd-a6d3-427b-ce5b-db226d151cba"
      },
      "execution_count": 26,
      "outputs": [
        {
          "output_type": "stream",
          "name": "stdout",
          "text": [
            "The intersection of the two sets is: {4, 5}\n"
          ]
        }
      ]
    },
    {
      "cell_type": "code",
      "source": [
        "#Write a code to concatenate two tuples. The function should take two tuples as input and return a new tuple containing elements from both input tuples.\n",
        "\n",
        "def concatenate_tuples(tuple1, tuple2):\n",
        "  result = tuple1 + tuple2\n",
        "  return result"
      ],
      "metadata": {
        "id": "a5aCs61RAW6m"
      },
      "execution_count": 29,
      "outputs": []
    },
    {
      "cell_type": "code",
      "source": [
        "tuple_a = (1, 2, 3)\n",
        "tuple_b = (4, 5, 6)"
      ],
      "metadata": {
        "id": "-65leUmwAl0T"
      },
      "execution_count": 30,
      "outputs": []
    },
    {
      "cell_type": "code",
      "source": [
        "concatenated_tuple = concatenate_tuples(tuple_a, tuple_b)\n",
        "print(f\"The concatenated tuple is: {concatenated_tuple}\")"
      ],
      "metadata": {
        "colab": {
          "base_uri": "https://localhost:8080/"
        },
        "id": "IIQZqWtCAq-e",
        "outputId": "d49addc3-4e5d-423c-dd39-d2f4bd2dbca0"
      },
      "execution_count": 31,
      "outputs": [
        {
          "output_type": "stream",
          "name": "stdout",
          "text": [
            "The concatenated tuple is: (1, 2, 3, 4, 5, 6)\n"
          ]
        }
      ]
    },
    {
      "cell_type": "code",
      "source": [
        "#Develop a code that prompts the user to input two sets of strings. Then, print the elements that are present in the first set but not in the second set\n",
        "\n",
        "str1 = input(\"Enter first string:\")\n",
        "str2 = input(\"Enter second string:\")\n",
        "str1 = set(str1)\n",
        "str2 = set(str2)\n",
        "difference = str1 - str2\n",
        "print(difference)"
      ],
      "metadata": {
        "colab": {
          "base_uri": "https://localhost:8080/"
        },
        "id": "Y6mF6cClAtwm",
        "outputId": "a47fa5aa-bb0f-4c52-f1cd-c5e0cff95500"
      },
      "execution_count": 34,
      "outputs": [
        {
          "output_type": "stream",
          "name": "stdout",
          "text": [
            "Enter first string:Hello\n",
            "Enter second string:Aayushi\n",
            "{'e', 'H', 'l', 'o'}\n"
          ]
        }
      ]
    },
    {
      "cell_type": "code",
      "source": [
        "#Create a code that takes a tuple and two integers as input. The function should return a new tuple containing elements from the original tuple within the specified range of indices\n",
        "\n",
        "def slice_tuple(input_tuple, start_index, end_index):\n",
        "  return input_tuple[start_index:end_index]\n",
        ""
      ],
      "metadata": {
        "id": "1Eay163aA6du"
      },
      "execution_count": 35,
      "outputs": []
    },
    {
      "cell_type": "code",
      "source": [
        "original_tuple = (10, 20, 30, 40, 50, 60, 70)\n",
        "start = int(input(\"Enter the start index: \"))\n",
        "end = int(input(\"Enter the end index: \"))\n"
      ],
      "metadata": {
        "colab": {
          "base_uri": "https://localhost:8080/"
        },
        "id": "gDC_IgcHBwfO",
        "outputId": "5aa58be9-6266-468a-8416-6897868b6101"
      },
      "execution_count": 36,
      "outputs": [
        {
          "name": "stdout",
          "output_type": "stream",
          "text": [
            "Enter the start index: 2\n",
            "Enter the end index: 5\n"
          ]
        }
      ]
    },
    {
      "cell_type": "code",
      "source": [
        "sliced_tuple = slice_tuple(original_tuple, start, end)\n",
        "print(f\"The new tuple containing elements from index {start} to {end} is: {sliced_tuple}\")"
      ],
      "metadata": {
        "colab": {
          "base_uri": "https://localhost:8080/"
        },
        "id": "C8UrqhBWBzDF",
        "outputId": "cf139ef1-6cdb-4bdd-e533-ce624fb20b7f"
      },
      "execution_count": 37,
      "outputs": [
        {
          "output_type": "stream",
          "name": "stdout",
          "text": [
            "The new tuple containing elements from index 2 to 5 is: (30, 40, 50)\n"
          ]
        }
      ]
    },
    {
      "cell_type": "code",
      "source": [
        "#Write a code that prompts the user to input two sets of characters. Then, print the union of these two sets\n",
        "\n",
        "def get_set_from_input(prompt):\n",
        "  user_input = input(prompt)\n",
        "  input_list = [x.strip() for x in user_input.split(',')]\n",
        "  return set(input_list)"
      ],
      "metadata": {
        "id": "onE-Cvj8B95X"
      },
      "execution_count": 39,
      "outputs": []
    },
    {
      "cell_type": "code",
      "source": [
        "set1 = get_set_from_input(\"Enter the first set of characters (comma-separated): \")\n",
        "set2 = get_set_from_input(\"Enter the second set of characters (comma-separated): \")"
      ],
      "metadata": {
        "colab": {
          "base_uri": "https://localhost:8080/"
        },
        "id": "6jddy8v2CJKO",
        "outputId": "9ba54e55-fef9-41cc-9515-c269b6ab4929"
      },
      "execution_count": 40,
      "outputs": [
        {
          "name": "stdout",
          "output_type": "stream",
          "text": [
            "Enter the first set of characters (comma-separated): a, b, c, d\n",
            "Enter the second set of characters (comma-separated): b, e, f, g\n"
          ]
        }
      ]
    },
    {
      "cell_type": "code",
      "source": [
        "union = set1.union(set2)\n"
      ],
      "metadata": {
        "id": "f6fnGXuWCN3L"
      },
      "execution_count": 41,
      "outputs": []
    },
    {
      "cell_type": "code",
      "source": [
        "print(f\"The union of the two sets is: {union}\")"
      ],
      "metadata": {
        "colab": {
          "base_uri": "https://localhost:8080/"
        },
        "id": "GD900dLtCUuD",
        "outputId": "8ef4da0b-ceb9-4112-f2ff-a93c43fcfba4"
      },
      "execution_count": 42,
      "outputs": [
        {
          "output_type": "stream",
          "name": "stdout",
          "text": [
            "The union of the two sets is: {'a', 'd', 'g', 'e', 'b', 'c', 'f'}\n"
          ]
        }
      ]
    },
    {
      "cell_type": "code",
      "source": [
        "#Develop a code that takes a tuple of integers as input. The function should return the maximum and minimum values from the tuple using tuple unpacking\n",
        "\n",
        "def get_max_min_from_tuple(input_tuple):\n",
        "  max_value = max(input_tuple)\n",
        "  min_value = min(input_tuple)\n",
        "  return max_value, min_value"
      ],
      "metadata": {
        "id": "lSvr9J3QCVg5"
      },
      "execution_count": 43,
      "outputs": []
    },
    {
      "cell_type": "code",
      "source": [
        "user_input = input(\"Enter a tuple of integers (comma-separated): \")"
      ],
      "metadata": {
        "colab": {
          "base_uri": "https://localhost:8080/"
        },
        "id": "EK9DsLSOCscE",
        "outputId": "4b0c0b09-65d0-4ec2-adbd-3026efee1a7d"
      },
      "execution_count": 44,
      "outputs": [
        {
          "name": "stdout",
          "output_type": "stream",
          "text": [
            "Enter a tuple of integers (comma-separated): 10, 20, 35, 5, 50\n"
          ]
        }
      ]
    },
    {
      "cell_type": "code",
      "source": [
        "input_tuple = tuple(map(int, user_input.split(',')))"
      ],
      "metadata": {
        "id": "ULHo1WCZCwcP"
      },
      "execution_count": 45,
      "outputs": []
    },
    {
      "cell_type": "code",
      "source": [
        "max_value, min_value = get_max_min_from_tuple(input_tuple)"
      ],
      "metadata": {
        "id": "AYQSPCHqC-wA"
      },
      "execution_count": 46,
      "outputs": []
    },
    {
      "cell_type": "code",
      "source": [
        "print(f\"The maximum value is: {max_value}\")"
      ],
      "metadata": {
        "colab": {
          "base_uri": "https://localhost:8080/"
        },
        "id": "kk5NoyOTDB6E",
        "outputId": "3c1907ac-35bc-48c0-9373-a973e7c0543b"
      },
      "execution_count": 47,
      "outputs": [
        {
          "output_type": "stream",
          "name": "stdout",
          "text": [
            "The maximum value is: 50\n"
          ]
        }
      ]
    },
    {
      "cell_type": "code",
      "source": [
        "print(f\"The minimum value is: {min_value}\")"
      ],
      "metadata": {
        "colab": {
          "base_uri": "https://localhost:8080/"
        },
        "id": "UXN7TusbDDsw",
        "outputId": "380104cf-478f-4cd0-d050-c09bba047264"
      },
      "execution_count": 48,
      "outputs": [
        {
          "output_type": "stream",
          "name": "stdout",
          "text": [
            "The minimum value is: 5\n"
          ]
        }
      ]
    },
    {
      "cell_type": "code",
      "source": [
        "#Create a code that defines two sets of integers. Then, print the union, intersection, and difference of these two sets\n",
        "\n",
        "def print_set_operations(set1, set2):\n",
        "  union = set1.union(set2)\n",
        "  print(f\"Union of the two sets: {union}\")"
      ],
      "metadata": {
        "id": "VLJGDaZyDFmV"
      },
      "execution_count": 49,
      "outputs": []
    },
    {
      "cell_type": "code",
      "source": [
        "intersection = set1.intersection(set2)\n",
        "print(f\"Intersection of the two sets: {intersection}\")"
      ],
      "metadata": {
        "colab": {
          "base_uri": "https://localhost:8080/"
        },
        "id": "Faaa9sMcDUZu",
        "outputId": "a3ec2bcd-d123-45c7-9ba2-497edd2cda18"
      },
      "execution_count": 50,
      "outputs": [
        {
          "output_type": "stream",
          "name": "stdout",
          "text": [
            "Intersection of the two sets: {'b'}\n"
          ]
        }
      ]
    },
    {
      "cell_type": "code",
      "source": [
        "difference = set1.difference(set2)\n",
        "print(f\"Difference of set1 and set2 (set1 - set2): {difference}\")"
      ],
      "metadata": {
        "colab": {
          "base_uri": "https://localhost:8080/"
        },
        "id": "KEJ8os7sDYjC",
        "outputId": "e614ce4f-ad11-402f-e930-d34eabe678af"
      },
      "execution_count": 51,
      "outputs": [
        {
          "output_type": "stream",
          "name": "stdout",
          "text": [
            "Difference of set1 and set2 (set1 - set2): {'a', 'd', 'c'}\n"
          ]
        }
      ]
    },
    {
      "cell_type": "code",
      "source": [
        "set1 = {1, 2, 3, 4, 5}\n",
        "set2 = {4, 5, 6, 7, 8}"
      ],
      "metadata": {
        "id": "7Zp5DW6RDbgs"
      },
      "execution_count": 52,
      "outputs": []
    },
    {
      "cell_type": "code",
      "source": [
        "print_set_operations(set1, set2)"
      ],
      "metadata": {
        "colab": {
          "base_uri": "https://localhost:8080/"
        },
        "id": "cnKKFznjDdSf",
        "outputId": "7e070d19-58d9-40f4-f326-d967159c96c6"
      },
      "execution_count": 53,
      "outputs": [
        {
          "output_type": "stream",
          "name": "stdout",
          "text": [
            "Union of the two sets: {1, 2, 3, 4, 5, 6, 7, 8}\n"
          ]
        }
      ]
    },
    {
      "cell_type": "code",
      "source": [
        "#Write a code that takes a tuple and an element as input. The function should return the count of occurrences of the given element in the tuple\n",
        "\n",
        "def count_element_in_tuple(input_tuple, element):\n",
        "  return input_tuple.count(element)"
      ],
      "metadata": {
        "id": "fnX0fl0iDemd"
      },
      "execution_count": 54,
      "outputs": []
    },
    {
      "cell_type": "code",
      "source": [
        "user_input = input(\"Enter a tuple of integers (comma-separated): \")"
      ],
      "metadata": {
        "colab": {
          "base_uri": "https://localhost:8080/"
        },
        "id": "kFu2GWd4D53Z",
        "outputId": "313b2fe5-9c10-4832-f1f2-35860345d3c0"
      },
      "execution_count": 55,
      "outputs": [
        {
          "name": "stdout",
          "output_type": "stream",
          "text": [
            "Enter a tuple of integers (comma-separated): 1, 2, 3, 2, 4, 2, 5\n"
          ]
        }
      ]
    },
    {
      "cell_type": "code",
      "source": [
        "input_tuple = tuple(map(int, user_input.split(',')))"
      ],
      "metadata": {
        "id": "iBRvWGJiD7VS"
      },
      "execution_count": 56,
      "outputs": []
    },
    {
      "cell_type": "code",
      "source": [
        "element = int(input(\"Enter the element to count in the tuple: \"))"
      ],
      "metadata": {
        "colab": {
          "base_uri": "https://localhost:8080/"
        },
        "id": "6h_Nwp6jEA7r",
        "outputId": "ec2bb404-d506-49b4-a1f2-00ed0cfa1ca7"
      },
      "execution_count": 57,
      "outputs": [
        {
          "name": "stdout",
          "output_type": "stream",
          "text": [
            "Enter the element to count in the tuple: 2\n"
          ]
        }
      ]
    },
    {
      "cell_type": "code",
      "source": [
        "occurrences = count_element_in_tuple(input_tuple, element)\n",
        "\n",
        "print(f\"The element {element} appears {occurrences} time(s) in the tuple.\")"
      ],
      "metadata": {
        "colab": {
          "base_uri": "https://localhost:8080/"
        },
        "id": "4e83LN5VECSq",
        "outputId": "f08e4581-76f2-464a-b980-a2e4e72d07c5"
      },
      "execution_count": 58,
      "outputs": [
        {
          "output_type": "stream",
          "name": "stdout",
          "text": [
            "The element 2 appears 3 time(s) in the tuple.\n"
          ]
        }
      ]
    },
    {
      "cell_type": "code",
      "source": [
        "#Develop a code that prompts the user to input two sets of strings. Then, print the symmetric difference of these two sets\n",
        "\n",
        "def get_set_from_input(prompt):\n",
        "  user_input = input(prompt)\n",
        "  input_list = [x.strip() for x in user_input.split(',')]\n",
        "  return set(input_list)"
      ],
      "metadata": {
        "id": "PbVEQxF3EKpN"
      },
      "execution_count": 59,
      "outputs": []
    },
    {
      "cell_type": "code",
      "source": [
        "def print_symmetric_difference(set1, set2):\n",
        "  symmetric_difference = set1.symmetric_difference(set2)\n",
        "  print(f\"The symmetric difference of the two sets is: {symmetric_difference}\")"
      ],
      "metadata": {
        "id": "FZtQ-B84Ea8s"
      },
      "execution_count": 62,
      "outputs": []
    },
    {
      "cell_type": "code",
      "source": [
        "set1 = get_set_from_input(\"Enter the first set of strings (comma-separated): \")\n",
        "set2 = get_set_from_input(\"Enter the second set of strings (comma-separated): \")"
      ],
      "metadata": {
        "colab": {
          "base_uri": "https://localhost:8080/"
        },
        "id": "k5sNsXu8EiWS",
        "outputId": "d41eff20-56f1-4b6f-e16d-31b0cbfbfbbe"
      },
      "execution_count": 63,
      "outputs": [
        {
          "name": "stdout",
          "output_type": "stream",
          "text": [
            "Enter the first set of strings (comma-separated): apple, banana, cherry, date\n",
            "Enter the second set of strings (comma-separated): banana, cherry, fig, grape\n"
          ]
        }
      ]
    },
    {
      "cell_type": "code",
      "source": [
        "print_symmetric_difference(set1, set2)"
      ],
      "metadata": {
        "colab": {
          "base_uri": "https://localhost:8080/"
        },
        "id": "IqqbEMnWEyJX",
        "outputId": "99b4c076-815d-459b-81c1-d49154edf633"
      },
      "execution_count": 64,
      "outputs": [
        {
          "output_type": "stream",
          "name": "stdout",
          "text": [
            "The symmetric difference of the two sets is: {'grape', 'date', 'fig', 'apple'}\n"
          ]
        }
      ]
    },
    {
      "cell_type": "code",
      "source": [
        "#Write a code that takes a list of words as input and returns a dictionary where the keys are unique words and the values are the frequencies of those words in the input list\n",
        "\n",
        "def word_frequency(input_list):\n",
        "  frequency_dict = {}\n",
        "  for word in input_list:\n",
        "    frequency_dict[word] = frequency_dict.get(word, 0) + 1\n",
        "    return frequency_dict"
      ],
      "metadata": {
        "id": "R54wnULWE4da"
      },
      "execution_count": 65,
      "outputs": []
    },
    {
      "cell_type": "code",
      "source": [
        "user_input = input(\"Enter a list of words (space-separated): \")\n",
        "input_list = user_input.split()\n"
      ],
      "metadata": {
        "colab": {
          "base_uri": "https://localhost:8080/"
        },
        "id": "i11WMBlSFtxb",
        "outputId": "2031229d-f9af-4777-8f43-beaab73cfc0b"
      },
      "execution_count": 66,
      "outputs": [
        {
          "name": "stdout",
          "output_type": "stream",
          "text": [
            "Enter a list of words (space-separated): apple banana apple cherry banana apple\n"
          ]
        }
      ]
    },
    {
      "cell_type": "code",
      "source": [
        "word_freq = word_frequency(input_list)"
      ],
      "metadata": {
        "id": "rEvjRX1VFyyt"
      },
      "execution_count": 68,
      "outputs": []
    },
    {
      "cell_type": "code",
      "source": [
        "print(\"Word Frequencies:\", word_freq)"
      ],
      "metadata": {
        "colab": {
          "base_uri": "https://localhost:8080/"
        },
        "id": "HPBDaQASF6Fz",
        "outputId": "d1dbaf74-5810-4185-a9fe-ae8e3d774c68"
      },
      "execution_count": 69,
      "outputs": [
        {
          "output_type": "stream",
          "name": "stdout",
          "text": [
            "Word Frequencies: {'apple': 1}\n"
          ]
        }
      ]
    },
    {
      "cell_type": "code",
      "source": [
        "#Write a code that takes two dictionaries as input and merges them into a single dictionary. If there are common keys, the values should be added together\n",
        "\n",
        "def merge_dictionaries(dict1, dict2):\n",
        "  merged_dict = dict1.copy()\n",
        "  for key, value in dict2.items():\n",
        "        if key in merged_dict:\n",
        "            merged_dict[key] += value\n",
        "        else:\n",
        "            merged_dict[key] = value\n",
        "            return merged_dict"
      ],
      "metadata": {
        "id": "E8NBitemGAYV"
      },
      "execution_count": 70,
      "outputs": []
    },
    {
      "cell_type": "code",
      "source": [
        "dict1_input = input(\"Enter the first dictionary (key:value pairs separated by commas): \")\n",
        "dict2_input = input(\"Enter the second dictionary (key:value pairs separated by commas): \")"
      ],
      "metadata": {
        "colab": {
          "base_uri": "https://localhost:8080/"
        },
        "id": "vq958KjOGWS4",
        "outputId": "2e5c0726-2159-4ae2-80bc-6712570be480"
      },
      "execution_count": 71,
      "outputs": [
        {
          "name": "stdout",
          "output_type": "stream",
          "text": [
            "Enter the first dictionary (key:value pairs separated by commas): a:2, b:3, c:5\n",
            "Enter the second dictionary (key:value pairs separated by commas): b:4, c:1, d:7\n"
          ]
        }
      ]
    },
    {
      "cell_type": "code",
      "source": [
        "dict1 = {k.strip(): int(v.strip()) for k, v in (item.split(':') for item in dict1_input.split(','))}\n",
        "dict2 = {k.strip(): int(v.strip()) for k, v in (item.split(':') for item in dict2_input.split(','))}"
      ],
      "metadata": {
        "id": "RNz1TycKGYWC"
      },
      "execution_count": 72,
      "outputs": []
    },
    {
      "cell_type": "code",
      "source": [
        "merged_dict = merge_dictionaries(dict1, dict2)\n"
      ],
      "metadata": {
        "id": "egG3e4bIGgfI"
      },
      "execution_count": 73,
      "outputs": []
    },
    {
      "cell_type": "code",
      "source": [
        "print(\"Merged Dictionary:\", merged_dict)"
      ],
      "metadata": {
        "colab": {
          "base_uri": "https://localhost:8080/"
        },
        "id": "C2727sFuGi9X",
        "outputId": "38731637-9026-4b4c-d334-6c363c42adf5"
      },
      "execution_count": 74,
      "outputs": [
        {
          "output_type": "stream",
          "name": "stdout",
          "text": [
            "Merged Dictionary: {'a': 2, 'b': 7, 'c': 6, 'd': 7}\n"
          ]
        }
      ]
    },
    {
      "cell_type": "code",
      "source": [
        "# Write a code to access a value in a nested dictionary. The function should take the dictionary and a list of keys as input, and return the corresponding value. If any of the keys do not exist in the dictionary, the function should return None\n",
        "\n",
        "def access_nested_dict_value(nested_dict, keys):\n",
        "  for key in keys:\n",
        "    if isinstance(nested_dict, dict) and key in nested_dict:\n",
        "            nested_dict = nested_dict[key]\n",
        "    else:\n",
        "            return None\n",
        "            return nested_dict"
      ],
      "metadata": {
        "id": "BoLunABsGkVm"
      },
      "execution_count": 76,
      "outputs": []
    },
    {
      "cell_type": "code",
      "source": [
        "nested_dict_input = {\n",
        "    'a': {\n",
        "        'b': {\n",
        "            'c': 5\n",
        "        },\n",
        "        'd': 10\n",
        "    },\n",
        "    'x': 20\n",
        "}\n",
        "\n",
        "keys_input = ['a', 'b', 'c']"
      ],
      "metadata": {
        "id": "7MGl4aODG-Re"
      },
      "execution_count": 77,
      "outputs": []
    },
    {
      "cell_type": "code",
      "source": [
        "value = access_nested_dict_value(nested_dict_input, keys_input)"
      ],
      "metadata": {
        "id": "ZfBruHUMHDfL"
      },
      "execution_count": 78,
      "outputs": []
    },
    {
      "cell_type": "code",
      "source": [
        "print(f\"The value corresponding to the keys {keys_input} is: {value}\")"
      ],
      "metadata": {
        "colab": {
          "base_uri": "https://localhost:8080/"
        },
        "id": "S68XjmKCHE0j",
        "outputId": "b95c5350-7272-469d-a18d-f32fece50515"
      },
      "execution_count": 79,
      "outputs": [
        {
          "output_type": "stream",
          "name": "stdout",
          "text": [
            "The value corresponding to the keys ['a', 'b', 'c'] is: None\n"
          ]
        }
      ]
    },
    {
      "cell_type": "code",
      "source": [
        "#Write a code that takes a dictionary as input and returns a sorted version of it based on the values. You can choose whether to sort in ascending or descending order\n",
        "\n",
        "def sort_dict_by_value(input_dict, descending=False):\n",
        "  sorted_items = sorted(input_dict.items(), key=lambda item: item[1], reverse=descending)\n",
        "  sorted_dict = dict(sorted_items)\n",
        "  return sorted_dict"
      ],
      "metadata": {
        "id": "R5YklEhQHGFz"
      },
      "execution_count": 80,
      "outputs": []
    },
    {
      "cell_type": "code",
      "source": [
        "input_dict_str = input(\"Enter a dictionary (key:value pairs separated by commas): \")"
      ],
      "metadata": {
        "colab": {
          "base_uri": "https://localhost:8080/"
        },
        "id": "hqvz49v6HeIK",
        "outputId": "5dc4c5e6-c680-42ae-e4a1-65e751c33008"
      },
      "execution_count": 81,
      "outputs": [
        {
          "name": "stdout",
          "output_type": "stream",
          "text": [
            "Enter a dictionary (key:value pairs separated by commas): a:2, b:5, c:3, d:1\n"
          ]
        }
      ]
    },
    {
      "cell_type": "code",
      "source": [
        "input_dict = {k.strip(): int(v.strip()) for k, v in (item.split(':') for item in input_dict_str.split(','))}"
      ],
      "metadata": {
        "id": "1JYjytjvHhl7"
      },
      "execution_count": 82,
      "outputs": []
    },
    {
      "cell_type": "code",
      "source": [
        "order = input(\"Do you want to sort in ascending order? (yes/no): \").lower()"
      ],
      "metadata": {
        "colab": {
          "base_uri": "https://localhost:8080/"
        },
        "id": "YsQR8pm8HnaB",
        "outputId": "b41fb44e-f6d1-4ea9-e9a1-5f2c7762a989"
      },
      "execution_count": 83,
      "outputs": [
        {
          "name": "stdout",
          "output_type": "stream",
          "text": [
            "Do you want to sort in ascending order? (yes/no): yes\n"
          ]
        }
      ]
    },
    {
      "cell_type": "code",
      "source": [
        "sorted_dict = sort_dict_by_value(input_dict, descending=(order == 'no'))"
      ],
      "metadata": {
        "id": "YsnaXV2vHpeL"
      },
      "execution_count": 84,
      "outputs": []
    },
    {
      "cell_type": "code",
      "source": [
        "print(\"Sorted Dictionary:\", sorted_dict)"
      ],
      "metadata": {
        "colab": {
          "base_uri": "https://localhost:8080/"
        },
        "id": "mlizm6fqHrdf",
        "outputId": "bed4bdaa-ae89-4ba2-c3a8-cc9f64c98be5"
      },
      "execution_count": 85,
      "outputs": [
        {
          "output_type": "stream",
          "name": "stdout",
          "text": [
            "Sorted Dictionary: {'d': 1, 'a': 2, 'c': 3, 'b': 5}\n"
          ]
        }
      ]
    },
    {
      "cell_type": "code",
      "source": [
        "#Write a code that inverts a dictionary, swapping keys and values. Ensure that the inverted dictionary correctly handles cases where multiple keys have the same value by storing the keys as a list in the inverted dictionary.\n",
        "\n",
        "def invert_dict(input_dict):\n",
        "   inverted_dict = {}\n",
        "   for key, value in input_dict.items():\n",
        "    if value in inverted_dict:\n",
        "      inverted_dict[value].append(key)\n",
        "    else:\n",
        "        inverted_dict[value] = [key]\n",
        "        return inverted_dict"
      ],
      "metadata": {
        "id": "gqboKMWCHtGA"
      },
      "execution_count": 89,
      "outputs": []
    },
    {
      "cell_type": "code",
      "source": [
        "input_dict_str = input(\"Enter a dictionary (key:value pairs separated by commas): \")"
      ],
      "metadata": {
        "colab": {
          "base_uri": "https://localhost:8080/"
        },
        "id": "YMbiy106IHXZ",
        "outputId": "417d4fb8-12f8-4950-fbcc-0a6906d87775"
      },
      "execution_count": 90,
      "outputs": [
        {
          "name": "stdout",
          "output_type": "stream",
          "text": [
            "Enter a dictionary (key:value pairs separated by commas): a:1, b:2, c:1, d:3, e:2\n"
          ]
        }
      ]
    },
    {
      "cell_type": "code",
      "source": [
        "input_dict = {k.strip(): v.strip() for k, v in (item.split(':') for item in input_dict_str.split(','))}"
      ],
      "metadata": {
        "id": "_EFe4x9-IhdT"
      },
      "execution_count": 91,
      "outputs": []
    },
    {
      "cell_type": "code",
      "source": [
        "inverted_dict = invert_dict(input_dict)"
      ],
      "metadata": {
        "id": "Eua5TwvzIyGR"
      },
      "execution_count": 92,
      "outputs": []
    },
    {
      "cell_type": "code",
      "source": [
        "print(\"Inverted Dictionary:\", inverted_dict)"
      ],
      "metadata": {
        "colab": {
          "base_uri": "https://localhost:8080/"
        },
        "id": "r0FvBEDHIzzL",
        "outputId": "1da40481-0893-4e16-f1cc-8d8d9c8255d8"
      },
      "execution_count": 93,
      "outputs": [
        {
          "output_type": "stream",
          "name": "stdout",
          "text": [
            "Inverted Dictionary: {'1': ['a']}\n"
          ]
        }
      ]
    }
  ]
}